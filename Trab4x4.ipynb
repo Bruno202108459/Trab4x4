{
 "cells": [
  {
   "cell_type": "code",
   "execution_count": 7,
   "id": "3eadffc0",
   "metadata": {},
   "outputs": [],
   "source": [
    "from copy import deepcopy\n",
    "\n",
    "'''Abstracão do jogo em uma matriz 6x7, para a criacão de representacão dos estados(inicial, intermédiarios e finais) \n",
    "e implementacão das funcoes para alteracão dos estados após cada jogada. Bem como testar se houve vencedor.'''\n",
    "\n",
    "NUM_ROWS = 6\n",
    "NUM_COLS = 7\n",
    "\n",
    "class GameState:\n",
    "    \n",
    "    def __init__(self):\n",
    "        \n",
    "        self.table = [[0 for i in range(7)] for i in range(6)] # [[0,0,0,...], [0,0,0,...], ...] estado inicial com tudo a zeros; \n",
    "        self.column_heights = [NUM_ROWS - 1] * NUM_COLS # [5, 5, 5, 5, 5, 5, 5] utilizada para inserir as pecas;\n",
    "        self.available_moves = list(range(7)) \n",
    "        self.player = 1\n",
    "        self.winner = -1 # atributo para checar vencedor (-1) jogo em curso; 0 empate; 1 - p1 Venceu; 2 - p2 Venceu;\n",
    "        \n",
    "    def play(self, n): \n",
    "        # funcão que implementa jogada a partir do n escolhido levando a formacão dos estados intermédiários;\n",
    "        \n",
    "        state_copy = deepcopy(self)\n",
    "        \n",
    "        # altura da coluna escolida (corresponde a j em a(i,j) )\n",
    "        height = state_copy.column_heights[n]\n",
    "        \n",
    "        #state_copy.column_heights[n] = height checar necessidade desta linha\n",
    "        \n",
    "        #atualiza table[][](1, se p1; 2, se p2)\n",
    "        state_copy.table[height][n] = self.player\n",
    "        \n",
    "        # atualiza altura da coluna(se colunha cheia, retira das jogadas possíveis) \n",
    "        if height == 0:\n",
    "            state_copy.available_moves.remove(n)\n",
    "        else:\n",
    "            state_copy.column_heights[n] = height - 1\n",
    "        \n",
    "        state_copy.check_end() # checa e atualiza atributo winner;\n",
    "        state_copy.player = 3 - self.player # Alterna entre p1 e p2;\n",
    "        \n",
    "        return state_copy\n",
    "        #--------------------------------------------------#\n",
    "    def check_end(self):\n",
    "        # Testa estado do jogo e se terminado, dá resultado.\n",
    "        if self.count(4, 1) > 0: # p1 vence\n",
    "            self.winner = 1\n",
    "        elif self.count(4, 2) > 0: # p2 vence\n",
    "            self.winner = 2\n",
    "        elif len(self.available_moves) == 0: # table cheia, empate\n",
    "            self.winner = 0\n",
    "        #--------------------------------------------------#\n",
    "        \n",
    "        \n",
    "    def count(self, n, player):\n",
    "        #percorre toda a table procurando vencedor \n",
    "        num_lines = 0 # valor a ser usado na herística\n",
    "        for row in range(NUM_ROWS):\n",
    "            for col in range(NUM_COLS):\n",
    "                # vertical \n",
    "                if col < NUM_COLS - 3 and self.check_line(n, player, [self.table[row][col], self.table[row][col+1], self.table[row][col+2], self.table[row][col+3]]):\n",
    "                    num_lines += 1\n",
    "                # horizontal \n",
    "                if row < NUM_ROWS - 3 and self.check_line(n, player, [self.table[row][col], self.table[row+1][col], self.table[row+2][col], self.table[row+3][col]]):\n",
    "                    num_lines += 1\n",
    "                # diagonal para cima frente\n",
    "                if row < NUM_ROWS - 3 and col < NUM_COLS - 3 and self.check_line(n, player, [self.table[row][col], self.table[row+1][col+1], self.table[row+2][col+2], self.table[row+3][col+3]]):\n",
    "                    num_lines += 1\n",
    "                # diagonal baixo frente\n",
    "                if row < NUM_ROWS - 3 and col > 3 and self.check_line(n, player, [self.table[row][col], self.table[row+1][col-1], self.table[row+2][col-2], self.table[row+3][col-3]]):\n",
    "                    num_lines += 1\n",
    "                # diagonais para trás não precisam ser testadas uma vez que serão encontradas por outras posicoes;\n",
    "        return num_lines\n",
    "    def __str__(self):\n",
    "        # @override para representacao da mesa\n",
    "        return table_to_str(self.table)\n",
    "        \n",
    "    \n",
    "def table_to_str(table):\n",
    "    table_str = \"\" \n",
    "    for row in range(len(table)):\n",
    "        for col in range(len(table[0])):\n",
    "            if table[row][col] == 0:\n",
    "                table_str += '-'\n",
    "            elif table[row][col] == 1:\n",
    "                table_str += 'X'\n",
    "            else:\n",
    "                table_str += 'O'\n",
    "        table_str += \"\\n\"\n",
    "        \n",
    "    return table_str"
   ]
  },
  {
   "cell_type": "code",
   "execution_count": 8,
   "id": "5f7125b2",
   "metadata": {},
   "outputs": [],
   "source": [
    "game1 = GameState()\n"
   ]
  },
  {
   "cell_type": "code",
   "execution_count": 9,
   "id": "0cd95768",
   "metadata": {},
   "outputs": [
    {
     "name": "stdout",
     "output_type": "stream",
     "text": [
      "-------\n",
      "-------\n",
      "-------\n",
      "-------\n",
      "-------\n",
      "-------\n",
      "\n"
     ]
    }
   ],
   "source": [
    "print(game1) # representacão so estado inicial;"
   ]
  },
  {
   "cell_type": "code",
   "execution_count": null,
   "id": "e134bc5e",
   "metadata": {},
   "outputs": [],
   "source": []
  },
  {
   "cell_type": "code",
   "execution_count": null,
   "id": "d9a58d53",
   "metadata": {},
   "outputs": [],
   "source": []
  }
 ],
 "metadata": {
  "kernelspec": {
   "display_name": "Python 3 (ipykernel)",
   "language": "python",
   "name": "python3"
  },
  "language_info": {
   "codemirror_mode": {
    "name": "ipython",
    "version": 3
   },
   "file_extension": ".py",
   "mimetype": "text/x-python",
   "name": "python",
   "nbconvert_exporter": "python",
   "pygments_lexer": "ipython3",
   "version": "3.9.13"
  }
 },
 "nbformat": 4,
 "nbformat_minor": 5
}
