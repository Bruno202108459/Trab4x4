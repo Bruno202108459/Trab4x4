{
 "cells": [
  {
   "cell_type": "code",
   "execution_count": 42,
   "id": "3eadffc0",
   "metadata": {},
   "outputs": [],
   "source": [
    "from copy import deepcopy\n",
    "\n",
    "#Abstracão do jogo para a criacão de representacão dos estados(inicial, intermédiarios e finais) com implementacão das funcoes para alteracão dos estados após cada jogada.\n",
    "NUM_ROWS = 6\n",
    "NUM_COLS = 7\n",
    "\n",
    "class GameState:\n",
    "    \n",
    "    def __init__(self):\n",
    "        # \n",
    "        self.table = [[0]*7 for i in range(6)] # [[0,0,0,...], [0,0,0,...], ...] estado inicial com tudo a zero; \n",
    "        self.column_heights = [NUM_ROWS - 1] * NUM_COLS # [5, 5, 5, 5, 5, 5, 5] será usada para inserir as pecas;\n",
    "        self.available_moves = list(range(7)) \n",
    "        self.player = 1\n",
    "        self.winner = -1 # atributo para checar vencedor (-1 jogo em curso; 0 empate; 1- p1 Venceu; 2 - p2 Venceu;\n",
    "        \n",
    "        \n",
    "        \n",
    "    def __str__(self):\n",
    "        # @override para representacao da mesa\n",
    "        return table_to_str(self.table)\n",
    "        \n",
    "    \n",
    "def table_to_str(table):\n",
    "    table_str = \"\" \n",
    "    for row in range(len(table)):\n",
    "        for col in range(len(table[0])):\n",
    "            if table[row][col] == 0:\n",
    "                table_str += '-'\n",
    "            elif table[row][col] == 1:\n",
    "                table_str += 'X'\n",
    "            else:\n",
    "                table_str += 'O'\n",
    "        table_str += \"\\n\"\n",
    "        \n",
    "    return table_str"
   ]
  },
  {
   "cell_type": "code",
   "execution_count": 43,
   "id": "5f7125b2",
   "metadata": {},
   "outputs": [],
   "source": [
    "game1 = GameState()\n"
   ]
  },
  {
   "cell_type": "code",
   "execution_count": 44,
   "id": "0cd95768",
   "metadata": {},
   "outputs": [
    {
     "name": "stdout",
     "output_type": "stream",
     "text": [
      "-------\n",
      "-------\n",
      "-------\n",
      "-------\n",
      "-------\n",
      "-------\n",
      "\n"
     ]
    }
   ],
   "source": [
    "print(game1)"
   ]
  },
  {
   "cell_type": "code",
   "execution_count": null,
   "id": "e134bc5e",
   "metadata": {},
   "outputs": [],
   "source": []
  },
  {
   "cell_type": "code",
   "execution_count": null,
   "id": "d9a58d53",
   "metadata": {},
   "outputs": [],
   "source": []
  }
 ],
 "metadata": {
  "kernelspec": {
   "display_name": "Python 3 (ipykernel)",
   "language": "python",
   "name": "python3"
  },
  "language_info": {
   "codemirror_mode": {
    "name": "ipython",
    "version": 3
   },
   "file_extension": ".py",
   "mimetype": "text/x-python",
   "name": "python",
   "nbconvert_exporter": "python",
   "pygments_lexer": "ipython3",
   "version": "3.9.13"
  }
 },
 "nbformat": 4,
 "nbformat_minor": 5
}
